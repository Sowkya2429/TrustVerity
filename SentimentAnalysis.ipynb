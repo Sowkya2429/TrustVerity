{
  "cells": [
    {
      "cell_type": "code",
      "execution_count": 1,
      "metadata": {
        "colab": {
          "base_uri": "https://localhost:8080/"
        },
        "id": "nfrKfY6FwQ-Y",
        "outputId": "8026f328-bc59-4eab-e21f-803035522423"
      },
      "outputs": [
        {
          "name": "stderr",
          "output_type": "stream",
          "text": [
            "[nltk_data] Downloading package vader_lexicon to\n",
            "[nltk_data]     C:\\Users\\ASUS\\AppData\\Roaming\\nltk_data...\n"
          ]
        }
      ],
      "source": [
        "import nltk\n",
        "nltk.downloader.download('vader_lexicon')\n",
        "from nltk.sentiment.vader import SentimentIntensityAnalyzer\n"
      ]
    },
    {
      "cell_type": "code",
      "execution_count": 2,
      "metadata": {},
      "outputs": [],
      "source": [
        "def count_reviews(reviews):\n",
        "  positive = 0\n",
        "  negative = 0\n",
        "  neutral = 0\n",
        "  analyzer = SentimentIntensityAnalyzer()\n",
        "  for review in reviews:\n",
        "    score = analyzer.polarity_scores(review)\n",
        "    if score[\"compound\"] > 0.05:\n",
        "      positive += 1\n",
        "    elif score[\"compound\"] < -0.05:\n",
        "      negative += 1\n",
        "    else:\n",
        "      neutral += 1\n",
        "  return positive, negative, neutral\n"
      ]
    },
    {
      "cell_type": "code",
      "execution_count": 3,
      "metadata": {
        "id": "0zr25smewt0X"
      },
      "outputs": [],
      "source": [
        "# !pip install pyyaml==5.4.1\n",
        "\n",
        "import pandas as pd\n",
        "from google_play_scraper import Sort, reviews"
      ]
    },
    {
      "cell_type": "code",
      "execution_count": 4,
      "metadata": {
        "id": "r7ST0KBUw4c1"
      },
      "outputs": [],
      "source": [
        "project, abc = reviews('com.gettimely.timely', count= 400, sort=Sort.NEWEST)\n",
        "df = pd.json_normalize(project)\n",
        "df['content'] = df['content'].astype('str')"
      ]
    },
    {
      "cell_type": "code",
      "execution_count": 5,
      "metadata": {
        "colab": {
          "base_uri": "https://localhost:8080/"
        },
        "id": "PV_X75CCw6eg",
        "outputId": "6856d3e7-5c88-4e64-9f14-401d78986614"
      },
      "outputs": [
        {
          "data": {
            "text/plain": [
              "0     Zero stars. Somehow, they have made it WORSE. ...\n",
              "1     Absolutely 0 support for the android app. Is l...\n",
              "2                                             Great app\n",
              "3                         Very please with the services\n",
              "4     Doesn't work for smasung phone. Disappointing....\n",
              "                            ...                        \n",
              "89    Easy to use, can simply click webpage option t...\n",
              "90    love timely but this app is pretty useless...j...\n",
              "91    Not good on Android. Can't see all the staff o...\n",
              "92    Cumbersome and not user friendly at all. Does ...\n",
              "93    There is no section where I can look up my not...\n",
              "Name: content, Length: 94, dtype: object"
            ]
          },
          "execution_count": 5,
          "metadata": {},
          "output_type": "execute_result"
        }
      ],
      "source": [
        "df['content']\n"
      ]
    },
    {
      "cell_type": "code",
      "execution_count": 6,
      "metadata": {
        "colab": {
          "base_uri": "https://localhost:8080/"
        },
        "id": "AmxBAizpxBsV",
        "outputId": "6cea9309-de64-4b52-9864-04d39604b97d"
      },
      "outputs": [
        {
          "name": "stdout",
          "output_type": "stream",
          "text": [
            "Positive: 44\n",
            "Negative: 37\n",
            "Neutral: 13\n"
          ]
        }
      ],
      "source": [
        "\n",
        "\n",
        "positive, negative, neutral = count_reviews(df['content'])\n",
        "\n",
        "print(\"Positive:\", positive)\n",
        "print(\"Negative:\", negative)\n",
        "print(\"Neutral:\", neutral)"
      ]
    },
    {
      "cell_type": "code",
      "execution_count": 7,
      "metadata": {},
      "outputs": [
        {
          "data": {
            "text/plain": [
              "'Not Fraud'"
            ]
          },
          "execution_count": 7,
          "metadata": {},
          "output_type": "execute_result"
        }
      ],
      "source": [
        "ans = \"Not Fraud\"\n",
        "if (negative / (positive + negative + neutral) >= 0.4):\n",
        "    ans = \"Fraud\"\n",
        "\n",
        "ans"
      ]
    }
  ],
  "metadata": {
    "colab": {
      "provenance": []
    },
    "kernelspec": {
      "display_name": "Python 3",
      "name": "python3"
    },
    "language_info": {
      "codemirror_mode": {
        "name": "ipython",
        "version": 3
      },
      "file_extension": ".py",
      "mimetype": "text/x-python",
      "name": "python",
      "nbconvert_exporter": "python",
      "pygments_lexer": "ipython3",
      "version": "3.10.5"
    }
  },
  "nbformat": 4,
  "nbformat_minor": 0
}
